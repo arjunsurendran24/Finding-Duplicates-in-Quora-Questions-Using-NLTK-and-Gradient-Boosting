{
 "metadata": {
  "name": "",
  "signature": "sha256:0dc73f6e8b82c96f848709297fc072d23d51574ace8397c13095a62a1956cfda"
 },
 "nbformat": 3,
 "nbformat_minor": 0,
 "worksheets": [
  {
   "cells": [
    {
     "cell_type": "code",
     "collapsed": false,
     "input": [
      "# Importing the libraries\n",
      "import numpy as np\n",
      "import matplotlib.pyplot as plt\n",
      "import pandas as pd"
     ],
     "language": "python",
     "metadata": {},
     "outputs": [],
     "prompt_number": 13
    },
    {
     "cell_type": "code",
     "collapsed": false,
     "input": [
      "#Importing dataset\n",
      "dataset = pd.read_csv('train.csv')\n",
      "dataset = dataset.drop(['id', 'qid1', 'qid2'], axis = 1)\n",
      "dataset = dataset.fillna('empty')"
     ],
     "language": "python",
     "metadata": {},
     "outputs": [],
     "prompt_number": 15
    },
    {
     "cell_type": "code",
     "collapsed": false,
     "input": [
      "# Cleaning the texts\n",
      "import re\n",
      "import nltk\n",
      "from nltk.corpus import stopwords\n",
      "from nltk.stem.porter import PorterStemmer\n",
      "question1 = []\n",
      "for i in range(0, dataset.shape[0]):\n",
      "    q1 = re.sub('[^a-zA-Z]', ' ', dataset['question1'][i])\n",
      "    q1 = q1.lower()\n",
      "    q1 = q1.split()\n",
      "    ps = PorterStemmer()\n",
      "    q1 = [ps.stem(word) for word in q1 if not word in set(stopwords.words('english'))]\n",
      "    q1 = ' '.join(q1)\n",
      "    question1.append(q1)\n",
      "question2 = []\n",
      "for i in range(0, dataset.shape[0]):\n",
      "    q2 = re.sub('[^a-zA-Z]', ' ', dataset['question2'][i])\n",
      "    q2 = q2.lower()\n",
      "    q2 = q2.split()\n",
      "    ps = PorterStemmer()\n",
      "    q2 = [ps.stem(word) for word in q2 if not word in set(stopwords.words('english'))]\n",
      "    q2 = ' '.join(q2)\n",
      "    question2.append(q2)"
     ],
     "language": "python",
     "metadata": {},
     "outputs": [],
     "prompt_number": 16
    },
    {
     "cell_type": "code",
     "collapsed": false,
     "input": [
      "#Count of similar words\n",
      "def Score(guess, solution):\n",
      "    guess = guess.split()\n",
      "    solution = solution.split()\n",
      "    c = 0\n",
      "    for g in guess:\n",
      "        if g in solution:\n",
      "            c += 1.0\n",
      "    if len(guess)+len(solution) != 0:       \n",
      "        return (c/(len(guess)+len(solution)))\n",
      "    else:\n",
      "        return 0.0"
     ],
     "language": "python",
     "metadata": {},
     "outputs": [],
     "prompt_number": 17
    },
    {
     "cell_type": "code",
     "collapsed": false,
     "input": [
      "#Array with similarity\n",
      "sw = []    \n",
      "for i in range(0, dataset.shape[0]):\n",
      "    sw.append(Score(question1[i],question2[i]))"
     ],
     "language": "python",
     "metadata": {},
     "outputs": [],
     "prompt_number": 18
    },
    {
     "cell_type": "code",
     "collapsed": false,
     "input": [
      "# Creating inputs and outputs\n",
      "X = np.asarray(sw)\n",
      "X = X.reshape(len(sw),1)    \n",
      "y = dataset.iloc[:, 2].values"
     ],
     "language": "python",
     "metadata": {},
     "outputs": [],
     "prompt_number": 19
    },
    {
     "cell_type": "code",
     "collapsed": false,
     "input": [
      "# Splitting the dataset into the Training set and Test set\n",
      "from sklearn.cross_validation import train_test_split\n",
      "X_train, X_test, y_train, y_test = train_test_split(X, y, test_size = 0.2, random_state = 0)"
     ],
     "language": "python",
     "metadata": {},
     "outputs": [
      {
       "output_type": "stream",
       "stream": "stderr",
       "text": [
        "/usr/local/lib/python2.7/dist-packages/sklearn/cross_validation.py:44: DeprecationWarning: This module was deprecated in version 0.18 in favor of the model_selection module into which all the refactored classes and functions are moved. Also note that the interface of the new CV iterators are different from that of this module. This module will be removed in 0.20.\n",
        "  \"This module will be removed in 0.20.\", DeprecationWarning)\n"
       ]
      }
     ],
     "prompt_number": 20
    },
    {
     "cell_type": "code",
     "collapsed": false,
     "input": [
      "#Fitting GradientBoostingRegressor\n",
      "from sklearn.ensemble import GradientBoostingClassifier as GBC\n",
      "classifier = GBC(learning_rate = 0.05)\n",
      "classifier.fit(X_train,y_train)"
     ],
     "language": "python",
     "metadata": {},
     "outputs": [
      {
       "metadata": {},
       "output_type": "pyout",
       "prompt_number": 21,
       "text": [
        "GradientBoostingClassifier(criterion='friedman_mse', init=None,\n",
        "              learning_rate=0.05, loss='deviance', max_depth=3,\n",
        "              max_features=None, max_leaf_nodes=None,\n",
        "              min_impurity_split=1e-07, min_samples_leaf=1,\n",
        "              min_samples_split=2, min_weight_fraction_leaf=0.0,\n",
        "              n_estimators=100, presort='auto', random_state=None,\n",
        "              subsample=1.0, verbose=0, warm_start=False)"
       ]
      }
     ],
     "prompt_number": 21
    },
    {
     "cell_type": "code",
     "collapsed": false,
     "input": [
      "# Predicting the Test set results\n",
      "y_pred = classifier.predict(X_test)"
     ],
     "language": "python",
     "metadata": {},
     "outputs": [],
     "prompt_number": 22
    },
    {
     "cell_type": "code",
     "collapsed": false,
     "input": [
      "# Making the Confusion Matrix\n",
      "from sklearn.metrics import confusion_matrix\n",
      "cm = confusion_matrix(y_test, y_pred)\n",
      "print cm"
     ],
     "language": "python",
     "metadata": {},
     "outputs": [
      {
       "output_type": "stream",
       "stream": "stdout",
       "text": [
        "[[43944  7043]\n",
        " [19742 10129]]\n"
       ]
      }
     ],
     "prompt_number": 23
    },
    {
     "cell_type": "code",
     "collapsed": false,
     "input": [
      "#Reading Test Data\n",
      "test = pd.read_csv('test.csv')"
     ],
     "language": "python",
     "metadata": {},
     "outputs": [],
     "prompt_number": 25
    },
    {
     "cell_type": "code",
     "collapsed": false,
     "input": [
      "#Prepaing Dataset\n",
      "ID = test['test_id']\n",
      "test = test.drop('test_id',axis = 1)\n",
      "test = test.fillna('empty')\n",
      "question1 = []\n",
      "for i in range(0, test.shape[0]):\n",
      "    q1 = re.sub('[^a-zA-Z]', ' ', test['question1'][i])\n",
      "    q1 = q1.lower()\n",
      "    q1 = q1.split()\n",
      "    ps = PorterStemmer()\n",
      "    q1 = [ps.stem(word) for word in q1 if not word in set(stopwords.words('english'))]\n",
      "    q1 = ' '.join(q1)\n",
      "    question1.append(q1)\n",
      "question2 = []\n",
      "for i in range(0, test.shape[0]):\n",
      "    q2 = re.sub('[^a-zA-Z]', ' ', test['question2'][i])\n",
      "    q2 = q2.lower()\n",
      "    q2 = q2.split()\n",
      "    ps = PorterStemmer()\n",
      "    q2 = [ps.stem(word) for word in q2 if not word in set(stopwords.words('english'))]\n",
      "    q2 = ' '.join(q2)\n",
      "    question2.append(q2)\n",
      "sw = []    \n",
      "for i in range(0, test.shape[0]):\n",
      "    sw.append(Score(question1[i],question2[i]))\n",
      "X_submission = np.asarray(sw).reshape(len(sw),1) "
     ],
     "language": "python",
     "metadata": {},
     "outputs": [],
     "prompt_number": 26
    },
    {
     "cell_type": "code",
     "collapsed": false,
     "input": [
      "#Predicting Results\n",
      "y = classifier.predict(X_submission)"
     ],
     "language": "python",
     "metadata": {},
     "outputs": [],
     "prompt_number": 27
    },
    {
     "cell_type": "code",
     "collapsed": false,
     "input": [
      "#Creating output File\n",
      "CSVFile = np.column_stack((ID,y.T))\n",
      "outdata = pd.DataFrame(CSVFile, columns = ['test_id', 'is_duplicate'])\n",
      "outdata.to_csv('Quora.csv', index = None)"
     ],
     "language": "python",
     "metadata": {},
     "outputs": [],
     "prompt_number": 29
    },
    {
     "cell_type": "code",
     "collapsed": false,
     "input": [],
     "language": "python",
     "metadata": {},
     "outputs": []
    }
   ],
   "metadata": {}
  }
 ]
}